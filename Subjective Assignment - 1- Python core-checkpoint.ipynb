{
 "cells": [
  {
   "cell_type": "markdown",
   "metadata": {},
   "source": [
    "Q1. Write a Python program to get the string from the given string where\n",
    "all the occurrence of its first char has been changed to '$,' except first\n",
    "char itself?\n",
    "\n",
    "    Sample String: 'prospect'\n",
    "    Expected Result : 'pros$ect'\n"
   ]
  },
  {
   "cell_type": "code",
   "execution_count": 1,
   "metadata": {},
   "outputs": [
    {
     "name": "stdout",
     "output_type": "stream",
     "text": [
      "pros$ect\n"
     ]
    }
   ],
   "source": [
    "def character_change(input_string):\n",
    "  first_char = input_string[0]\n",
    "  input_string = input_string.replace(first_char, '$')\n",
    "  input_string = first_char + input_string[1:]\n",
    "\n",
    "  return input_string\n",
    "\n",
    "print(character_change('prospect'))"
   ]
  },
  {
   "cell_type": "markdown",
   "metadata": {},
   "source": [
    "Q2. Write a Python program to get the single string from the two given\n",
    "strings, and separated by the space and swap the first two characters of\n",
    "each string?\n",
    "\n",
    "    Sample String : 'abc', 'xyz'.\n",
    "    Expected Result: 'xyc abz'"
   ]
  },
  {
   "cell_type": "code",
   "execution_count": 2,
   "metadata": {},
   "outputs": [
    {
     "name": "stdout",
     "output_type": "stream",
     "text": [
      "xyc abz\n"
     ]
    }
   ],
   "source": [
    "def characters_mix_swap(x, y):\n",
    "  updated_x = y[:2] + x[2:]\n",
    "  updated_y = x[:2] + y[2:]\n",
    "\n",
    "  return updated_x + ' ' + updated_y\n",
    "print(characters_mix_swap('abc', 'xyz'))"
   ]
  },
  {
   "cell_type": "markdown",
   "metadata": {},
   "source": [
    "Q3. Write the Python program to add 'ing' at the end of the given string\n",
    "(length of the string should be at least 3). If given string already ends\n",
    "with 'ing,' then add 'ly' instead. If string length of the given string is less\n",
    "than 3, leave it unchanged?\n",
    "\n",
    "\n",
    "    Sample string: ' abc '\n",
    "    Expected result: ' abcing '\n",
    "    Sample string: ' string '\n",
    "    Expected result: ' stringly '\n"
   ]
  },
  {
   "cell_type": "code",
   "execution_count": 3,
   "metadata": {},
   "outputs": [
    {
     "name": "stdout",
     "output_type": "stream",
     "text": [
      "me\n",
      "abcing\n",
      "stringly\n"
     ]
    }
   ],
   "source": [
    "def add_str_ing_ly(input_string):\n",
    "  len_input_string = len(input_string)\n",
    "\n",
    "  if len_input_string >= 3:\n",
    "    if input_string[-3:] == 'ing':\n",
    "      input_string += 'ly'\n",
    "    else:\n",
    "      input_string += 'ing'\n",
    "\n",
    "  return input_string\n",
    "\n",
    "print(add_str_ing_ly('me'))\n",
    "print(add_str_ing_ly('abc'))\n",
    "print(add_str_ing_ly('string'))"
   ]
  },
  {
   "cell_type": "markdown",
   "metadata": {},
   "source": [
    "Q4. Write the Python program to find the first appearance of the\n",
    "substring 'not' and 'poor' from the given string, if 'not' follows the 'poor',\n",
    "replace the whole 'not'...' poor' substring with 'good'.Return the resulting\n",
    "string.\n",
    "\n",
    "    Sample string: 'The lyrics are not that poor!'\n",
    "    'The lyrics are poor!'\n",
    "    Expected Result: 'The lyrics are good!'\n",
    "    'The lyrics are poor!'"
   ]
  },
  {
   "cell_type": "code",
   "execution_count": 4,
   "metadata": {},
   "outputs": [
    {
     "name": "stdout",
     "output_type": "stream",
     "text": [
      "The lyrics are good!\n",
      "The lyrics are poor!\n"
     ]
    }
   ],
   "source": [
    "def not_poor_seq_check(input_string):\n",
    "  string_not = input_string.find('not')\n",
    "  string_poor = input_string.find('poor')\n",
    "  \n",
    "  if string_not>0 and string_poor>0 and string_not < string_poor:\n",
    "    input_string = input_string.replace(input_string[string_not:(string_poor+4)], 'good')\n",
    "    return input_string\n",
    "  else:\n",
    "    return input_string\n",
    "\n",
    "print(not_poor_seq_check('The lyrics are not that poor!'))\n",
    "print(not_poor_seq_check('The lyrics are poor!'))"
   ]
  },
  {
   "cell_type": "markdown",
   "metadata": {},
   "source": [
    "Q5. Write the Python program to remove the characters which have odd\n",
    "index values of a given string."
   ]
  },
  {
   "cell_type": "code",
   "execution_count": 5,
   "metadata": {},
   "outputs": [
    {
     "name": "stdout",
     "output_type": "stream",
     "text": [
      "de erig\n",
      "sbetv sinet1\n"
     ]
    }
   ],
   "source": [
    "def remove_odd_index(input_string):\n",
    "  result_str = str(\"\") \n",
    "  for i in range(len(input_string)):\n",
    "    if i % 2 == 0:\n",
    "      result_str = result_str + input_string[i]\n",
    "  return result_str\n",
    "\n",
    "print(remove_odd_index('deep learning'))\n",
    "print(remove_odd_index('subjective assignment-1'))"
   ]
  },
  {
   "cell_type": "markdown",
   "metadata": {},
   "source": [
    "Q6. Write the python program to print the following floating numbers up\n",
    "to 2 decimal places?"
   ]
  },
  {
   "cell_type": "code",
   "execution_count": 6,
   "metadata": {},
   "outputs": [
    {
     "name": "stdout",
     "output_type": "stream",
     "text": [
      "Original Number before formatting : 12.3456\n",
      "Formatted Number with two decimals: 12.35\n",
      "Original Number before formatting : 78.91011\n",
      "Formatted Number with two decimals: 78.91\n"
     ]
    }
   ],
   "source": [
    "x = 12.3456\n",
    "y = 78.91011\n",
    "\n",
    "print(\"Original Number before formatting :\", x)\n",
    "'''Method-1 to print two decimals'''\n",
    "print(\"Formatted Number with two decimals: %.2f\" %x);\n",
    "print(\"Original Number before formatting :\", y)\n",
    "'''Method-2 to print two decimals using format()'''\n",
    "print(\"Formatted Number with two decimals: \"+\"{:.2f}\".format(y));"
   ]
  },
  {
   "cell_type": "markdown",
   "metadata": {},
   "source": [
    "Q7. Write the Python program to format a number with a percentage?"
   ]
  },
  {
   "cell_type": "code",
   "execution_count": 7,
   "metadata": {},
   "outputs": [
    {
     "name": "stdout",
     "output_type": "stream",
     "text": [
      "Original Number before percentage: 0.7783\n",
      "Formatted Number with percentage : 77.83%\n",
      "Original Number before percentage: -0.926\n",
      "Formatted Number with percentage : -92.60%\n",
      "\n"
     ]
    }
   ],
   "source": [
    "x = 0.7783\n",
    "y = -0.926\n",
    "print(\"Original Number before percentage:\", x)\n",
    "print(\"Formatted Number with percentage : \"+\"{:.2%}\".format(x));\n",
    "print(\"Original Number before percentage:\", y)\n",
    "print(\"Formatted Number with percentage : \"+\"{:.2%}\".format(y));\n",
    "print()"
   ]
  },
  {
   "cell_type": "markdown",
   "metadata": {},
   "source": [
    "Q8. Write the Python program to count occurrences of a substring in a\n",
    "String?"
   ]
  },
  {
   "cell_type": "code",
   "execution_count": 8,
   "metadata": {},
   "outputs": [
    {
     "name": "stdout",
     "output_type": "stream",
     "text": [
      "2\n"
     ]
    }
   ],
   "source": [
    "input_str = 'Deep learning classes going good with practical assignments which makes us to practice as well. good work by iNeuron team'\n",
    "print(input_str.count(\"good\"))"
   ]
  },
  {
   "cell_type": "markdown",
   "metadata": {},
   "source": [
    "Q9. Write the Python program to count repeated characters in a string.\n",
    "\n",
    "    Sample string: ' thequickbrownjumpsoverthelazydog '\n",
    "    \n",
    "    Expected output:\n",
    "    o 3\n",
    "    e 3\n",
    "    u 2\n",
    "    h 2\n",
    "    r 2\n",
    "    t 2"
   ]
  },
  {
   "cell_type": "code",
   "execution_count": 13,
   "metadata": {},
   "outputs": [
    {
     "name": "stdout",
     "output_type": "stream",
     "text": [
      "e 3\n",
      "o 3\n",
      "t 2\n",
      "h 2\n",
      "u 2\n",
      "r 2\n"
     ]
    }
   ],
   "source": [
    "'''Removed spaces which are at the begining and end of the string as space string result not available in expected output'''\n",
    "input_string = 'thequickbrownjumpsoverthelazydog'\n",
    "d = defaultdict(int)\n",
    "for character in input_string:\n",
    "    d[character] += 1\n",
    "'''Though applying different sorting mechanisms, I could achieve below output similar to expected output but not exact'''       \n",
    "for character in sorted(d, key=d.get, reverse=True):\n",
    "    if d[character] > 1:\n",
    "        print('%s %d' % (character, d[character]))"
   ]
  },
  {
   "cell_type": "markdown",
   "metadata": {},
   "source": [
    "Q10. Write the Python program to print the square and cube symbol in\n",
    "the area of a rectangle and volume of a cylinder?\n",
    "\n",
    "    Sample outputThe area of the rectangle is 1256.66cm2\n",
    "    The volume of the cylinder is 1254.725cm3\n"
   ]
  },
  {
   "cell_type": "code",
   "execution_count": 15,
   "metadata": {},
   "outputs": [
    {
     "name": "stdout",
     "output_type": "stream",
     "text": [
      "The area of the rectangle is 1256.66cm²\n",
      "The volume of the cylinder is 1254.725cm³\n"
     ]
    }
   ],
   "source": [
    "area = 1256.661234\n",
    "volume = 1254.725123\n",
    "\n",
    "'''Method-1 by specifying two decimal float out of calling format method'''\n",
    "print(\"The area of the rectangle is {0:.2f}cm\\u00b2\".format(area))\n",
    "\n",
    "'''Method-2 by calling decimal value as an argument in format method'''\n",
    "decimals = 3\n",
    "print(\"The volume of the cylinder is {0:.{1}f}cm\\u00b3\".format(volume,decimals))"
   ]
  },
  {
   "cell_type": "markdown",
   "metadata": {},
   "source": [
    "Q11. Write the Python program to check if a string contains all letters of\n",
    "the alphabet?"
   ]
  },
  {
   "cell_type": "code",
   "execution_count": 17,
   "metadata": {},
   "outputs": [
    {
     "name": "stdout",
     "output_type": "stream",
     "text": [
      "True\n",
      "False\n",
      "True\n"
     ]
    }
   ],
   "source": [
    "import string\n",
    "alphabet = set(string.ascii_lowercase)\n",
    "'''Similarly it can be written with upper case also. Just need to replace upper in place of lower at all places'''\n",
    "input_string = 'The quick brown fox jumps over the lazy dog'\n",
    "print(set(input_string.lower()) >= alphabet)\n",
    "input_string = 'The quick brown fox jumps over the lazy cat'\n",
    "print(set(input_string.lower()) >= alphabet)\n",
    "input_string = 'ABCDEFGHIjklMNOpqrSTUvwXYZ'\n",
    "print(set(input_string.lower()) >= alphabet)"
   ]
  },
  {
   "cell_type": "markdown",
   "metadata": {},
   "source": [
    "Q12. Write the Python program to find the second most repeated word\n",
    "in a given string?"
   ]
  },
  {
   "cell_type": "code",
   "execution_count": 18,
   "metadata": {},
   "outputs": [
    {
     "name": "stdout",
     "output_type": "stream",
     "text": [
      "('to', 2)\n"
     ]
    }
   ],
   "source": [
    "def word_count(str):\n",
    "    counts = dict()\n",
    "    words = str.split()\n",
    "\n",
    "    for word in words:\n",
    "        if word in counts:\n",
    "            counts[word] += 1\n",
    "        else:\n",
    "            counts[word] = 1\n",
    "\n",
    "    count_sort_nth_highest = sorted(counts.items(), key=lambda kv: kv[1])\n",
    "    return count_sort_nth_highest[-2]\n",
    " \n",
    "print(word_count(\"Deep learning classes going good, we love to the way of teaching the classes. We are getting chance to practice as well after classes\"))"
   ]
  },
  {
   "cell_type": "markdown",
   "metadata": {},
   "source": [
    "Q13. Write the Python program to find the minimum window in the given\n",
    "string, which will contains all the characters of another given\n",
    "strings?\n",
    "\n",
    "    Example 1\n",
    "    Input : string1 = \" PRWSOERIUSFK \"\n",
    "    string2 = \" OSU \"\n",
    "    Output: Minimum window is \"OERIUS\""
   ]
  },
  {
   "cell_type": "code",
   "execution_count": 7,
   "metadata": {},
   "outputs": [
    {
     "name": "stdout",
     "output_type": "stream",
     "text": [
      "Input : String1 =   PRWSOERIUSFK \n",
      "String2 =  OSU\n",
      "Output: Minimum window: OERIUS\n"
     ]
    }
   ],
   "source": [
    "import collections\n",
    "def minimum_window(input_str1, input_str2):\n",
    "    result_char, missing_char = collections.Counter(input_str2), len(input_str2)\n",
    "    i = x = y = 0\n",
    "    for j, c in enumerate(input_str1, 1):\n",
    "        missing_char -= result_char[c] > 0\n",
    "        result_char[c] -= 1\n",
    "        if not missing_char:\n",
    "            while i < y and result_char[input_str1[i]] < 0:\n",
    "                result_char[input_str1[i]] += 1\n",
    "                i += 1\n",
    "            if not y or j - i <= y - x:\n",
    "                x, y = i, j\n",
    "    return input_str1[x:y]\n",
    "           \n",
    "input_str1 = \" PRWSOERIUSFK \"\n",
    "input_str2 = \"OSU\"\n",
    "print(\"Input : String1 = \",input_str1)\n",
    "print(\"String2 = \",input_str2)\n",
    "print(\"Output: Minimum window:\", minimum_window(input_str1,input_str2))"
   ]
  },
  {
   "cell_type": "markdown",
   "metadata": {},
   "source": [
    "Q14. Write the Python program to count number of substrings from a\n",
    "given string of lowercase alphabets with exactly k distinct (given)\n",
    "characters?\n",
    "\n",
    "    Input a string (lowercase alphabets): wolf\n",
    "    Input k: 4\n",
    "    Number of substrings with exactly 4 distinct characters: 1"
   ]
  },
  {
   "cell_type": "code",
   "execution_count": 2,
   "metadata": {},
   "outputs": [
    {
     "name": "stdout",
     "output_type": "stream",
     "text": [
      "Input a string (lowercase alphabets):wolf\n",
      "Input k: 4\n",
      "Number of substrings with exactly 4 distinct characters : 1\n"
     ]
    }
   ],
   "source": [
    "def count_k_distinct(input_string, k): \n",
    "    str_len = len(input_string) \n",
    "    result = 0\n",
    "    character = [0] * 27\n",
    "\n",
    "    for i in range(0, str_len): \n",
    "        distinct_character = 0\n",
    "        character = [0] * 27\n",
    "\n",
    "        for j in range(i, str_len): \n",
    "            \n",
    "            if(character[ord(input_string[j]) - 97] == 0): \n",
    "                distinct_character += 1\n",
    "\n",
    "            character[ord(input_string[j]) - 97] += 1\n",
    "\n",
    "            if(distinct_character == k): \n",
    "                result += 1\n",
    "            if(distinct_character > k): \n",
    "                break\n",
    "\n",
    "    return result \n",
    "\n",
    "input_string = input(\"Input a string (lowercase alphabets):\")\n",
    "k = int(input(\"Input k: \"))\n",
    "print(\"Number of substrings with exactly\", k, \"distinct characters : \", end = \"\") \n",
    "print(count_k_distinct(input_string, k))"
   ]
  },
  {
   "cell_type": "markdown",
   "metadata": {},
   "source": [
    "Q15. Write the Python program to count number of substrings with same\n",
    "first and last characters of the given string?\n",
    "\n",
    "    Input a string: abcd\n",
    "    4\n"
   ]
  },
  {
   "cell_type": "code",
   "execution_count": 8,
   "metadata": {},
   "outputs": [
    {
     "name": "stdout",
     "output_type": "stream",
     "text": [
      "Enetr a string: abcd\n",
      "4\n"
     ]
    }
   ],
   "source": [
    "def substring_with_equalEnds(input_string):\n",
    "    result = 0;\n",
    "    n = len(input_string); \n",
    "    for i in range(n): \n",
    "        for j in range(i, n): \n",
    "            if (input_string[i] == input_string[j]): \n",
    "                result = result + 1\n",
    "    return result \n",
    "input_string = input(\"Enetr a string: \")\n",
    "print(substring_with_equalEnds(input_string))"
   ]
  },
  {
   "cell_type": "markdown",
   "metadata": {},
   "source": []
  }
 ],
 "metadata": {
  "kernelspec": {
   "display_name": "Python 3",
   "language": "python",
   "name": "python3"
  },
  "language_info": {
   "codemirror_mode": {
    "name": "ipython",
    "version": 3
   },
   "file_extension": ".py",
   "mimetype": "text/x-python",
   "name": "python",
   "nbconvert_exporter": "python",
   "pygments_lexer": "ipython3",
   "version": "3.7.4"
  }
 },
 "nbformat": 4,
 "nbformat_minor": 2
}
